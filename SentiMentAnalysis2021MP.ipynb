{
 "cells": [
  {
   "cell_type": "code",
   "execution_count": 3,
   "id": "2f05f624",
   "metadata": {},
   "outputs": [
    {
     "name": "stdout",
     "output_type": "stream",
     "text": [
      "Requirement already satisfied: neattext in ./opt/anaconda3/lib/python3.8/site-packages (0.1.2)\n",
      "Collecting plotly\n",
      "  Downloading plotly-5.6.0-py2.py3-none-any.whl (27.7 MB)\n",
      "\u001b[K     |████████████████████████████████| 27.7 MB 210 kB/s eta 0:00:01    |██▉                             | 2.5 MB 1.2 MB/s eta 0:00:21\n",
      "\u001b[?25hRequirement already satisfied: six in ./opt/anaconda3/lib/python3.8/site-packages (from plotly) (1.16.0)\n",
      "Collecting tenacity>=6.2.0\n",
      "  Downloading tenacity-8.0.1-py3-none-any.whl (24 kB)\n",
      "Installing collected packages: tenacity, plotly\n",
      "Successfully installed plotly-5.6.0 tenacity-8.0.1\n"
     ]
    }
   ],
   "source": [
    "# neat text - simple NLP package for cleaning textual data and text preprocessing.\n",
    "!pip install neattext\n",
    "!pip install plotly\n",
    "\n",
    "# Useful python libraries for to be used in the below file:\n",
    "import os # library for importing system file paths\n",
    "import numpy as np # numpy library for further analysis \n",
    "import pandas as pd # \n",
    "import re #\n",
    "import matplotlib as plt # for visualisation\n",
    "import plotly.express as pe # better version of plotly to have better high-level visualisation\n",
    "import neattext as netxt"
   ]
  },
  {
   "cell_type": "code",
   "execution_count": 73,
   "id": "9eda635c",
   "metadata": {},
   "outputs": [],
   "source": [
    "# using pandas library to convert the csv file into a dataframe , for further operations\n",
    "DataSet01 = pd.read_csv('/Users/bhushanbist/Downloads/vaccination_all_tweets.csv')"
   ]
  },
  {
   "cell_type": "code",
   "execution_count": 74,
   "id": "aaef5033",
   "metadata": {},
   "outputs": [
    {
     "data": {
      "text/html": [
       "<div>\n",
       "<style scoped>\n",
       "    .dataframe tbody tr th:only-of-type {\n",
       "        vertical-align: middle;\n",
       "    }\n",
       "\n",
       "    .dataframe tbody tr th {\n",
       "        vertical-align: top;\n",
       "    }\n",
       "\n",
       "    .dataframe thead th {\n",
       "        text-align: right;\n",
       "    }\n",
       "</style>\n",
       "<table border=\"1\" class=\"dataframe\">\n",
       "  <thead>\n",
       "    <tr style=\"text-align: right;\">\n",
       "      <th></th>\n",
       "      <th>id</th>\n",
       "      <th>user_name</th>\n",
       "      <th>user_location</th>\n",
       "      <th>user_description</th>\n",
       "      <th>user_created</th>\n",
       "      <th>user_followers</th>\n",
       "      <th>user_friends</th>\n",
       "      <th>user_favourites</th>\n",
       "      <th>user_verified</th>\n",
       "      <th>date</th>\n",
       "      <th>text</th>\n",
       "      <th>hashtags</th>\n",
       "      <th>source</th>\n",
       "      <th>retweets</th>\n",
       "      <th>favorites</th>\n",
       "      <th>is_retweet</th>\n",
       "    </tr>\n",
       "  </thead>\n",
       "  <tbody>\n",
       "    <tr>\n",
       "      <th>0</th>\n",
       "      <td>1340539111971516416</td>\n",
       "      <td>Rachel Roh</td>\n",
       "      <td>La Crescenta-Montrose, CA</td>\n",
       "      <td>Aggregator of Asian American news; scanning di...</td>\n",
       "      <td>2009-04-08 17:52:46</td>\n",
       "      <td>405</td>\n",
       "      <td>1692</td>\n",
       "      <td>3247</td>\n",
       "      <td>False</td>\n",
       "      <td>2020-12-20 06:06:44</td>\n",
       "      <td>Same folks said daikon paste could treat a cyt...</td>\n",
       "      <td>['PfizerBioNTech']</td>\n",
       "      <td>Twitter for Android</td>\n",
       "      <td>0</td>\n",
       "      <td>0</td>\n",
       "      <td>False</td>\n",
       "    </tr>\n",
       "    <tr>\n",
       "      <th>1</th>\n",
       "      <td>1338158543359250433</td>\n",
       "      <td>Albert Fong</td>\n",
       "      <td>San Francisco, CA</td>\n",
       "      <td>Marketing dude, tech geek, heavy metal &amp; '80s ...</td>\n",
       "      <td>2009-09-21 15:27:30</td>\n",
       "      <td>834</td>\n",
       "      <td>666</td>\n",
       "      <td>178</td>\n",
       "      <td>False</td>\n",
       "      <td>2020-12-13 16:27:13</td>\n",
       "      <td>While the world has been on the wrong side of ...</td>\n",
       "      <td>NaN</td>\n",
       "      <td>Twitter Web App</td>\n",
       "      <td>1</td>\n",
       "      <td>1</td>\n",
       "      <td>False</td>\n",
       "    </tr>\n",
       "    <tr>\n",
       "      <th>2</th>\n",
       "      <td>1337858199140118533</td>\n",
       "      <td>eli🇱🇹🇪🇺👌</td>\n",
       "      <td>Your Bed</td>\n",
       "      <td>heil, hydra 🖐☺</td>\n",
       "      <td>2020-06-25 23:30:28</td>\n",
       "      <td>10</td>\n",
       "      <td>88</td>\n",
       "      <td>155</td>\n",
       "      <td>False</td>\n",
       "      <td>2020-12-12 20:33:45</td>\n",
       "      <td>#coronavirus #SputnikV #AstraZeneca #PfizerBio...</td>\n",
       "      <td>['coronavirus', 'SputnikV', 'AstraZeneca', 'Pf...</td>\n",
       "      <td>Twitter for Android</td>\n",
       "      <td>0</td>\n",
       "      <td>0</td>\n",
       "      <td>False</td>\n",
       "    </tr>\n",
       "    <tr>\n",
       "      <th>3</th>\n",
       "      <td>1337855739918835717</td>\n",
       "      <td>Charles Adler</td>\n",
       "      <td>Vancouver, BC - Canada</td>\n",
       "      <td>Hosting \"CharlesAdlerTonight\" Global News Radi...</td>\n",
       "      <td>2008-09-10 11:28:53</td>\n",
       "      <td>49165</td>\n",
       "      <td>3933</td>\n",
       "      <td>21853</td>\n",
       "      <td>True</td>\n",
       "      <td>2020-12-12 20:23:59</td>\n",
       "      <td>Facts are immutable, Senator, even when you're...</td>\n",
       "      <td>NaN</td>\n",
       "      <td>Twitter Web App</td>\n",
       "      <td>446</td>\n",
       "      <td>2129</td>\n",
       "      <td>False</td>\n",
       "    </tr>\n",
       "    <tr>\n",
       "      <th>4</th>\n",
       "      <td>1337854064604966912</td>\n",
       "      <td>Citizen News Channel</td>\n",
       "      <td>NaN</td>\n",
       "      <td>Citizen News Channel bringing you an alternati...</td>\n",
       "      <td>2020-04-23 17:58:42</td>\n",
       "      <td>152</td>\n",
       "      <td>580</td>\n",
       "      <td>1473</td>\n",
       "      <td>False</td>\n",
       "      <td>2020-12-12 20:17:19</td>\n",
       "      <td>Explain to me again why we need a vaccine @Bor...</td>\n",
       "      <td>['whereareallthesickpeople', 'PfizerBioNTech']</td>\n",
       "      <td>Twitter for iPhone</td>\n",
       "      <td>0</td>\n",
       "      <td>0</td>\n",
       "      <td>False</td>\n",
       "    </tr>\n",
       "  </tbody>\n",
       "</table>\n",
       "</div>"
      ],
      "text/plain": [
       "                    id             user_name              user_location  \\\n",
       "0  1340539111971516416            Rachel Roh  La Crescenta-Montrose, CA   \n",
       "1  1338158543359250433           Albert Fong          San Francisco, CA   \n",
       "2  1337858199140118533              eli🇱🇹🇪🇺👌                   Your Bed   \n",
       "3  1337855739918835717         Charles Adler     Vancouver, BC - Canada   \n",
       "4  1337854064604966912  Citizen News Channel                        NaN   \n",
       "\n",
       "                                    user_description         user_created  \\\n",
       "0  Aggregator of Asian American news; scanning di...  2009-04-08 17:52:46   \n",
       "1  Marketing dude, tech geek, heavy metal & '80s ...  2009-09-21 15:27:30   \n",
       "2                                     heil, hydra 🖐☺  2020-06-25 23:30:28   \n",
       "3  Hosting \"CharlesAdlerTonight\" Global News Radi...  2008-09-10 11:28:53   \n",
       "4  Citizen News Channel bringing you an alternati...  2020-04-23 17:58:42   \n",
       "\n",
       "   user_followers  user_friends  user_favourites  user_verified  \\\n",
       "0             405          1692             3247          False   \n",
       "1             834           666              178          False   \n",
       "2              10            88              155          False   \n",
       "3           49165          3933            21853           True   \n",
       "4             152           580             1473          False   \n",
       "\n",
       "                  date                                               text  \\\n",
       "0  2020-12-20 06:06:44  Same folks said daikon paste could treat a cyt...   \n",
       "1  2020-12-13 16:27:13  While the world has been on the wrong side of ...   \n",
       "2  2020-12-12 20:33:45  #coronavirus #SputnikV #AstraZeneca #PfizerBio...   \n",
       "3  2020-12-12 20:23:59  Facts are immutable, Senator, even when you're...   \n",
       "4  2020-12-12 20:17:19  Explain to me again why we need a vaccine @Bor...   \n",
       "\n",
       "                                            hashtags               source  \\\n",
       "0                                 ['PfizerBioNTech']  Twitter for Android   \n",
       "1                                                NaN      Twitter Web App   \n",
       "2  ['coronavirus', 'SputnikV', 'AstraZeneca', 'Pf...  Twitter for Android   \n",
       "3                                                NaN      Twitter Web App   \n",
       "4     ['whereareallthesickpeople', 'PfizerBioNTech']   Twitter for iPhone   \n",
       "\n",
       "   retweets  favorites  is_retweet  \n",
       "0         0          0       False  \n",
       "1         1          1       False  \n",
       "2         0          0       False  \n",
       "3       446       2129       False  \n",
       "4         0          0       False  "
      ]
     },
     "execution_count": 74,
     "metadata": {},
     "output_type": "execute_result"
    }
   ],
   "source": [
    "#For getting the first five rows of the dataset - vaccination_all_tweets.csv \n",
    "DataSet01.head()"
   ]
  },
  {
   "cell_type": "code",
   "execution_count": 75,
   "id": "eb52149d",
   "metadata": {},
   "outputs": [
    {
     "data": {
      "text/plain": [
       "(228207, 16)"
      ]
     },
     "metadata": {},
     "output_type": "display_data"
    },
    {
     "data": {
      "text/plain": [
       "'228207 Number of tweets available'"
      ]
     },
     "metadata": {},
     "output_type": "display_data"
    }
   ],
   "source": [
    "# Display function used to show the total number of tweets available in the data set\n",
    "display(DataSet01.shape, str(DataSet01.shape[0])+\" Number of tweets available\")"
   ]
  },
  {
   "cell_type": "code",
   "execution_count": 17,
   "id": "1add58fc",
   "metadata": {},
   "outputs": [
    {
     "name": "stdout",
     "output_type": "stream",
     "text": [
      "<class 'pandas.core.frame.DataFrame'>\n",
      "RangeIndex: 228207 entries, 0 to 228206\n",
      "Data columns (total 16 columns):\n",
      " #   Column            Non-Null Count   Dtype \n",
      "---  ------            --------------   ----- \n",
      " 0   id                228207 non-null  int64 \n",
      " 1   user_name         228205 non-null  object\n",
      " 2   user_location     161296 non-null  object\n",
      " 3   user_description  211189 non-null  object\n",
      " 4   user_created      228207 non-null  object\n",
      " 5   user_followers    228207 non-null  int64 \n",
      " 6   user_friends      228207 non-null  int64 \n",
      " 7   user_favourites   228207 non-null  int64 \n",
      " 8   user_verified     228207 non-null  bool  \n",
      " 9   date              228207 non-null  object\n",
      " 10  text              228207 non-null  object\n",
      " 11  hashtags          178504 non-null  object\n",
      " 12  source            228088 non-null  object\n",
      " 13  retweets          228207 non-null  int64 \n",
      " 14  favorites         228207 non-null  int64 \n",
      " 15  is_retweet        228207 non-null  bool  \n",
      "dtypes: bool(2), int64(6), object(8)\n",
      "memory usage: 24.8+ MB\n"
     ]
    }
   ],
   "source": [
    "#to get further knowledge on the data set  , we use datafram.info to know more about the columns in the dataset\n",
    "DataSet01.info()"
   ]
  },
  {
   "cell_type": "code",
   "execution_count": 76,
   "id": "94c11484",
   "metadata": {},
   "outputs": [
    {
     "data": {
      "text/plain": [
       "id                      0\n",
       "user_name               2\n",
       "user_location       66911\n",
       "user_description    17018\n",
       "user_created            0\n",
       "user_followers          0\n",
       "user_friends            0\n",
       "user_favourites         0\n",
       "user_verified           0\n",
       "date                    0\n",
       "text                    0\n",
       "hashtags            49703\n",
       "source                119\n",
       "retweets                0\n",
       "favorites               0\n",
       "is_retweet              0\n",
       "dtype: int64"
      ]
     },
     "execution_count": 76,
     "metadata": {},
     "output_type": "execute_result"
    }
   ],
   "source": [
    "# checking for the null values and summing the null values in each columns\n",
    "DataSet01.isna().sum()"
   ]
  },
  {
   "cell_type": "code",
   "execution_count": 77,
   "id": "92d0bff3",
   "metadata": {},
   "outputs": [],
   "source": [
    "# to process further we need to process the dates mentioned in the data set to date format\n",
    "DataSet01['date'] = pd.to_datetime(DataSet01['date'])"
   ]
  },
  {
   "cell_type": "code",
   "execution_count": 80,
   "id": "b03ddfee",
   "metadata": {},
   "outputs": [
    {
     "data": {
      "text/plain": [
       "(25459, 1)"
      ]
     },
     "execution_count": 80,
     "metadata": {},
     "output_type": "execute_result"
    }
   ],
   "source": [
    "#to get all the unique locatiosn off the dataframe\n",
    "UniqueLocations = DataSet01.user_location.unique()\n",
    "\n",
    "# To create a dataframe of all the unique values\n",
    "AllUniqueLocations = pd.DataFrame(UniqueLocations)\n",
    "AllUniqueLocations.shape"
   ]
  },
  {
   "cell_type": "code",
   "execution_count": 81,
   "id": "a87f9e9c",
   "metadata": {},
   "outputs": [
    {
     "data": {
      "text/plain": [
       "0    25458\n",
       "dtype: int64"
      ]
     },
     "execution_count": 81,
     "metadata": {},
     "output_type": "execute_result"
    }
   ],
   "source": [
    "AllUniqueLocations.count() # we have total 25459 locations unique in the current data set "
   ]
  },
  {
   "cell_type": "code",
   "execution_count": 82,
   "id": "2ad01703",
   "metadata": {},
   "outputs": [
    {
     "data": {
      "text/plain": [
       "<AxesSubplot:>"
      ]
     },
     "execution_count": 82,
     "metadata": {},
     "output_type": "execute_result"
    },
    {
     "data": {
      "image/png": "[encoded data removed]",
      "text/plain": [
       "<Figure size 1080x720 with 1 Axes>"
      ]
     },
     "metadata": {
      "needs_background": "light"
     },
     "output_type": "display_data"
    }
   ],
   "source": [
    "# extracting unique enteries from each region in the data set, total lenth is same as per the above unique locations, \n",
    "UserLocationToTweetCount = DataSet01['user_location'].value_counts().nlargest(30)\n",
    "UserLocationToTweetCount\n",
    "#plot to show the above data\n",
    "plt.rcParams[\"figure.figsize\"] = (15,10)\n",
    "UserLocationToTweetCount.nlargest(20).plot(kind='bar')"
   ]
  },
  {
   "cell_type": "code",
   "execution_count": 83,
   "id": "74a420c2",
   "metadata": {},
   "outputs": [
    {
     "data": {
      "text/plain": [
       "228207"
      ]
     },
     "execution_count": 83,
     "metadata": {},
     "output_type": "execute_result"
    }
   ],
   "source": [
    "# checking for the number of duplicate tweets, shows all duplicate tweets and the count\n",
    "DataSet01.groupby(['text']).size().reset_index(name='count')\n",
    "DataSet01['text'].count()"
   ]
  },
  {
   "cell_type": "code",
   "execution_count": 84,
   "id": "c12db9b8",
   "metadata": {},
   "outputs": [],
   "source": [
    "# as seen there are total 226373 duplicate tweets, dropping them for further analysis\n",
    "DataSet01 = DataSet01.drop_duplicates('text')"
   ]
  },
  {
   "cell_type": "code",
   "execution_count": 85,
   "id": "c8ad34fb",
   "metadata": {},
   "outputs": [
    {
     "data": {
      "text/plain": [
       "226373"
      ]
     },
     "execution_count": 85,
     "metadata": {},
     "output_type": "execute_result"
    }
   ],
   "source": [
    "DataSet01['text'].count()"
   ]
  },
  {
   "cell_type": "code",
   "execution_count": null,
   "id": "f10e6dfa",
   "metadata": {},
   "outputs": [],
   "source": []
  }
 ],
 "metadata": {
  "kernelspec": {
   "display_name": "Python 3 (ipykernel)",
   "language": "python",
   "name": "python3"
  },
  "language_info": {
   "codemirror_mode": {
    "name": "ipython",
    "version": 3
   },
   "file_extension": ".py",
   "mimetype": "text/x-python",
   "name": "python",
   "nbconvert_exporter": "python",
   "pygments_lexer": "ipython3",
   "version": "3.8.8"
  }
 },
 "nbformat": 4,
 "nbformat_minor": 5
}
