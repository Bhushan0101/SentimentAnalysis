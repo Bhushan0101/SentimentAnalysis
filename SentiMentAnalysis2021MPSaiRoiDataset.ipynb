{
 "cells": [
  {
   "cell_type": "code",
   "execution_count": 58,
   "id": "642c320a",
   "metadata": {},
   "outputs": [
    {
     "name": "stdout",
     "output_type": "stream",
     "text": [
      "Requirement already satisfied: neattext in ./opt/anaconda3/lib/python3.8/site-packages (0.1.2)\n",
      "Requirement already satisfied: plotly in ./opt/anaconda3/lib/python3.8/site-packages (5.6.0)\n",
      "Requirement already satisfied: tenacity>=6.2.0 in ./opt/anaconda3/lib/python3.8/site-packages (from plotly) (8.0.1)\n",
      "Requirement already satisfied: six in ./opt/anaconda3/lib/python3.8/site-packages (from plotly) (1.16.0)\n"
     ]
    }
   ],
   "source": [
    "# neat text - simple NLP package for cleaning textual data and text preprocessing.\n",
    "!pip install neattext\n",
    "!pip install plotly\n",
    "\n",
    "# Useful python libraries for to be used in the below file:\n",
    "import os # library for importing system file paths\n",
    "import numpy as np # numpy library for further analysis \n",
    "import pandas as pd # \n",
    "import re #\n",
    "import matplotlib as plt # for visualisation\n",
    "import plotly.express as pe # better version of plotly to have better high-level visualisation\n",
    "import neattext as netxt"
   ]
  },
  {
   "cell_type": "code",
   "execution_count": 59,
   "id": "5eb75752",
   "metadata": {},
   "outputs": [],
   "source": [
    "# using pandas library to convert the csv file into a dataframe , for further operations\n",
    "DataSet01 = pd.read_excel('/Users/bhushanbist/Downloads/covid19_tweets.xlsx')"
   ]
  },
  {
   "cell_type": "code",
   "execution_count": 60,
   "id": "9cee4126",
   "metadata": {},
   "outputs": [
    {
     "data": {
      "text/html": [
       "<div>\n",
       "<style scoped>\n",
       "    .dataframe tbody tr th:only-of-type {\n",
       "        vertical-align: middle;\n",
       "    }\n",
       "\n",
       "    .dataframe tbody tr th {\n",
       "        vertical-align: top;\n",
       "    }\n",
       "\n",
       "    .dataframe thead th {\n",
       "        text-align: right;\n",
       "    }\n",
       "</style>\n",
       "<table border=\"1\" class=\"dataframe\">\n",
       "  <thead>\n",
       "    <tr style=\"text-align: right;\">\n",
       "      <th></th>\n",
       "      <th>user_name</th>\n",
       "      <th>user_location</th>\n",
       "      <th>user_description</th>\n",
       "      <th>user_created</th>\n",
       "      <th>user_followers</th>\n",
       "      <th>user_friends</th>\n",
       "      <th>user_favourites</th>\n",
       "      <th>user_verified</th>\n",
       "      <th>date</th>\n",
       "      <th>text</th>\n",
       "      <th>hashtags</th>\n",
       "      <th>source</th>\n",
       "      <th>is_retweet</th>\n",
       "    </tr>\n",
       "  </thead>\n",
       "  <tbody>\n",
       "    <tr>\n",
       "      <th>0</th>\n",
       "      <td>á‰áŽ¥â˜»Õ¬ê‚…Ï®</td>\n",
       "      <td>astroworld</td>\n",
       "      <td>wednesday addams as a disney princess keepin i...</td>\n",
       "      <td>26/05/2017 05:46</td>\n",
       "      <td>624</td>\n",
       "      <td>950</td>\n",
       "      <td>18775</td>\n",
       "      <td>False</td>\n",
       "      <td>25/07/2020 12:27</td>\n",
       "      <td>If I smelled the scent of hand sanitizers toda...</td>\n",
       "      <td>NaN</td>\n",
       "      <td>Twitter for iPhone</td>\n",
       "      <td>False</td>\n",
       "    </tr>\n",
       "    <tr>\n",
       "      <th>1</th>\n",
       "      <td>Tom Basile ðŸ‡ºðŸ‡¸</td>\n",
       "      <td>New York, NY</td>\n",
       "      <td>Husband, Father, Columnist &amp; Commentator. Auth...</td>\n",
       "      <td>16/04/2009 20:06</td>\n",
       "      <td>2253</td>\n",
       "      <td>1677</td>\n",
       "      <td>24</td>\n",
       "      <td>True</td>\n",
       "      <td>25/07/2020 12:27</td>\n",
       "      <td>Hey @Yankees @YankeesPR and @MLB - wouldn't it...</td>\n",
       "      <td>NaN</td>\n",
       "      <td>Twitter for Android</td>\n",
       "      <td>False</td>\n",
       "    </tr>\n",
       "    <tr>\n",
       "      <th>2</th>\n",
       "      <td>Time4fisticuffs</td>\n",
       "      <td>Pewee Valley, KY</td>\n",
       "      <td>#Christian #Catholic #Conservative #Reagan #Re...</td>\n",
       "      <td>28/02/2009 18:57</td>\n",
       "      <td>9275</td>\n",
       "      <td>9525</td>\n",
       "      <td>7254</td>\n",
       "      <td>False</td>\n",
       "      <td>25/07/2020 12:27</td>\n",
       "      <td>@diane3443 @wdunlap @realDonaldTrump Trump nev...</td>\n",
       "      <td>['COVID19']</td>\n",
       "      <td>Twitter for Android</td>\n",
       "      <td>False</td>\n",
       "    </tr>\n",
       "    <tr>\n",
       "      <th>3</th>\n",
       "      <td>ethel mertz</td>\n",
       "      <td>Stuck in the Middle</td>\n",
       "      <td>#Browns #Indians #ClevelandProud #[]_[] #Cavs ...</td>\n",
       "      <td>2019-07-03 01:45:00</td>\n",
       "      <td>197</td>\n",
       "      <td>987</td>\n",
       "      <td>1488</td>\n",
       "      <td>False</td>\n",
       "      <td>25/07/2020 12:27</td>\n",
       "      <td>@brookbanktv The one gift #COVID19 has give me...</td>\n",
       "      <td>['COVID19']</td>\n",
       "      <td>Twitter for iPhone</td>\n",
       "      <td>False</td>\n",
       "    </tr>\n",
       "    <tr>\n",
       "      <th>4</th>\n",
       "      <td>DIPR-J&amp;K</td>\n",
       "      <td>Jammu and Kashmir</td>\n",
       "      <td>ðŸ–Šï¸Official Twitter handle of Department o...</td>\n",
       "      <td>2017-12-02 06:45:00</td>\n",
       "      <td>101009</td>\n",
       "      <td>168</td>\n",
       "      <td>101</td>\n",
       "      <td>False</td>\n",
       "      <td>25/07/2020 12:27</td>\n",
       "      <td>25 July : Media Bulletin on Novel #CoronaVirus...</td>\n",
       "      <td>['CoronaVirusUpdates', 'COVID19']</td>\n",
       "      <td>Twitter for Android</td>\n",
       "      <td>False</td>\n",
       "    </tr>\n",
       "  </tbody>\n",
       "</table>\n",
       "</div>"
      ],
      "text/plain": [
       "             user_name         user_location  \\\n",
       "0     á‰áŽ¥â˜»Õ¬ê‚…Ï®            astroworld   \n",
       "1  Tom Basile ðŸ‡ºðŸ‡¸          New York, NY   \n",
       "2      Time4fisticuffs      Pewee Valley, KY   \n",
       "3          ethel mertz  Stuck in the Middle    \n",
       "4             DIPR-J&K     Jammu and Kashmir   \n",
       "\n",
       "                                    user_description         user_created  \\\n",
       "0  wednesday addams as a disney princess keepin i...     26/05/2017 05:46   \n",
       "1  Husband, Father, Columnist & Commentator. Auth...     16/04/2009 20:06   \n",
       "2  #Christian #Catholic #Conservative #Reagan #Re...     28/02/2009 18:57   \n",
       "3  #Browns #Indians #ClevelandProud #[]_[] #Cavs ...  2019-07-03 01:45:00   \n",
       "4  ðŸ–Šï¸Official Twitter handle of Department o...  2017-12-02 06:45:00   \n",
       "\n",
       "   user_followers  user_friends  user_favourites  user_verified  \\\n",
       "0             624           950            18775          False   \n",
       "1            2253          1677               24           True   \n",
       "2            9275          9525             7254          False   \n",
       "3             197           987             1488          False   \n",
       "4          101009           168              101          False   \n",
       "\n",
       "               date                                               text  \\\n",
       "0  25/07/2020 12:27  If I smelled the scent of hand sanitizers toda...   \n",
       "1  25/07/2020 12:27  Hey @Yankees @YankeesPR and @MLB - wouldn't it...   \n",
       "2  25/07/2020 12:27  @diane3443 @wdunlap @realDonaldTrump Trump nev...   \n",
       "3  25/07/2020 12:27  @brookbanktv The one gift #COVID19 has give me...   \n",
       "4  25/07/2020 12:27  25 July : Media Bulletin on Novel #CoronaVirus...   \n",
       "\n",
       "                            hashtags               source  is_retweet  \n",
       "0                                NaN   Twitter for iPhone       False  \n",
       "1                                NaN  Twitter for Android       False  \n",
       "2                        ['COVID19']  Twitter for Android       False  \n",
       "3                        ['COVID19']   Twitter for iPhone       False  \n",
       "4  ['CoronaVirusUpdates', 'COVID19']  Twitter for Android       False  "
      ]
     },
     "execution_count": 60,
     "metadata": {},
     "output_type": "execute_result"
    }
   ],
   "source": [
    "#For getting the first five rows of the dataset - vaccination_all_tweets.csv \n",
    "DataSet01.head()"
   ]
  },
  {
   "cell_type": "code",
   "execution_count": 61,
   "id": "8bfabee5",
   "metadata": {},
   "outputs": [
    {
     "data": {
      "text/plain": [
       "(179108, 13)"
      ]
     },
     "metadata": {},
     "output_type": "display_data"
    },
    {
     "data": {
      "text/plain": [
       "'179108 Number of tweets available'"
      ]
     },
     "metadata": {},
     "output_type": "display_data"
    }
   ],
   "source": [
    "# Display function used to show the total number of tweets available in the data set\n",
    "display(DataSet01.shape, str(DataSet01.shape[0])+\" Number of tweets available\")"
   ]
  },
  {
   "cell_type": "code",
   "execution_count": 62,
   "id": "db3351d5",
   "metadata": {},
   "outputs": [
    {
     "name": "stdout",
     "output_type": "stream",
     "text": [
      "<class 'pandas.core.frame.DataFrame'>\n",
      "RangeIndex: 179108 entries, 0 to 179107\n",
      "Data columns (total 13 columns):\n",
      " #   Column            Non-Null Count   Dtype \n",
      "---  ------            --------------   ----- \n",
      " 0   user_name         179103 non-null  object\n",
      " 1   user_location     142337 non-null  object\n",
      " 2   user_description  168755 non-null  object\n",
      " 3   user_created      179108 non-null  object\n",
      " 4   user_followers    179108 non-null  int64 \n",
      " 5   user_friends      179108 non-null  int64 \n",
      " 6   user_favourites   179108 non-null  int64 \n",
      " 7   user_verified     179108 non-null  bool  \n",
      " 8   date              179108 non-null  object\n",
      " 9   text              179108 non-null  object\n",
      " 10  hashtags          127774 non-null  object\n",
      " 11  source            179031 non-null  object\n",
      " 12  is_retweet        179108 non-null  bool  \n",
      "dtypes: bool(2), int64(3), object(8)\n",
      "memory usage: 15.4+ MB\n"
     ]
    }
   ],
   "source": [
    "#to get further knowledge on the data set  , we use datafram.info to know more about the columns in the dataset\n",
    "DataSet01.info()"
   ]
  },
  {
   "cell_type": "code",
   "execution_count": 63,
   "id": "36c28f22",
   "metadata": {},
   "outputs": [
    {
     "data": {
      "text/plain": [
       "user_name               5\n",
       "user_location       36771\n",
       "user_description    10353\n",
       "user_created            0\n",
       "user_followers          0\n",
       "user_friends            0\n",
       "user_favourites         0\n",
       "user_verified           0\n",
       "date                    0\n",
       "text                    0\n",
       "hashtags            51334\n",
       "source                 77\n",
       "is_retweet              0\n",
       "dtype: int64"
      ]
     },
     "execution_count": 63,
     "metadata": {},
     "output_type": "execute_result"
    }
   ],
   "source": [
    "# checking for the null values and summing the null values in each columns\n",
    "DataSet01.isna().sum()"
   ]
  },
  {
   "cell_type": "code",
   "execution_count": 64,
   "id": "0ea14b9e",
   "metadata": {},
   "outputs": [],
   "source": [
    "# to process further we need to process the dates mentioned in the data set to date format\n",
    "DataSet01['date'] = pd.to_datetime(DataSet01['date'])"
   ]
  },
  {
   "cell_type": "code",
   "execution_count": 65,
   "id": "8cbe8464",
   "metadata": {},
   "outputs": [
    {
     "data": {
      "text/plain": [
       "(26920, 1)"
      ]
     },
     "execution_count": 65,
     "metadata": {},
     "output_type": "execute_result"
    }
   ],
   "source": [
    "#to get all the unique locatiosn off the dataframe\n",
    "UniqueLocations = DataSet01.user_location.unique()\n",
    "\n",
    "# To create a dataframe of all the unique values\n",
    "AllUniqueLocations = pd.DataFrame(UniqueLocations)\n",
    "AllUniqueLocations.shape"
   ]
  },
  {
   "cell_type": "code",
   "execution_count": 66,
   "id": "d3d0e28e",
   "metadata": {},
   "outputs": [
    {
     "data": {
      "text/plain": [
       "0    26919\n",
       "dtype: int64"
      ]
     },
     "execution_count": 66,
     "metadata": {},
     "output_type": "execute_result"
    }
   ],
   "source": [
    "AllUniqueLocations.count() # we have total 25459 locations unique in the current data set "
   ]
  },
  {
   "cell_type": "code",
   "execution_count": 67,
   "id": "22308e25",
   "metadata": {},
   "outputs": [
    {
     "data": {
      "text/plain": [
       "<AxesSubplot:>"
      ]
     },
     "execution_count": 67,
     "metadata": {},
     "output_type": "execute_result"
    },
    {
     "data": {
      "image/png": "[encoded data removed]",
      "text/plain": [
       "<Figure size 1080x720 with 1 Axes>"
      ]
     },
     "metadata": {
      "needs_background": "light"
     },
     "output_type": "display_data"
    }
   ],
   "source": [
    "# extracting unique enteries from each region in the data set, total lenth is same as per the above unique locations, \n",
    "UserLocationToTweetCount = DataSet01['user_location'].value_counts().nlargest(30)\n",
    "UserLocationToTweetCount\n",
    "#plot to show the above data\n",
    "plt.rcParams[\"figure.figsize\"] = (15,10)\n",
    "UserLocationToTweetCount.nlargest(20).plot(kind='bar')"
   ]
  },
  {
   "cell_type": "code",
   "execution_count": 68,
   "id": "4a7759b3",
   "metadata": {},
   "outputs": [
    {
     "data": {
      "text/plain": [
       "179108"
      ]
     },
     "execution_count": 68,
     "metadata": {},
     "output_type": "execute_result"
    }
   ],
   "source": [
    "# checking for the number of duplicate tweets, shows all duplicate tweets and the count\n",
    "DataSet01.groupby(['text']).size().reset_index(name='count')\n",
    "DataSet01['text'].count()"
   ]
  },
  {
   "cell_type": "code",
   "execution_count": 69,
   "id": "f6fc31d8",
   "metadata": {},
   "outputs": [],
   "source": [
    "# as seen there are total 226373 duplicate tweets, dropping them for further analysis\n",
    "DataSet01 = DataSet01.drop_duplicates('text')"
   ]
  },
  {
   "cell_type": "code",
   "execution_count": 70,
   "id": "582ff487",
   "metadata": {},
   "outputs": [
    {
     "data": {
      "text/plain": [
       "178683"
      ]
     },
     "execution_count": 70,
     "metadata": {},
     "output_type": "execute_result"
    }
   ],
   "source": [
    "DataSet01['text'].count()"
   ]
  },
  {
   "cell_type": "code",
   "execution_count": 71,
   "id": "07ad94c5",
   "metadata": {},
   "outputs": [
    {
     "data": {
      "text/plain": [
       "Twitter Web App              56846\n",
       "Twitter for Android          40130\n",
       "Twitter for iPhone           35458\n",
       "TweetDeck                     8527\n",
       "Hootsuite Inc.                7317\n",
       "                             ...  \n",
       "Ontario_Covid19                  1\n",
       "Dear_Assistant                   1\n",
       "That Best Home Automation        1\n",
       "NippyTweet                       1\n",
       "Radiology: AI app                1\n",
       "Name: source, Length: 610, dtype: int64"
      ]
     },
     "execution_count": 71,
     "metadata": {},
     "output_type": "execute_result"
    }
   ],
   "source": [
    "DataSet01.source.value_counts()"
   ]
  },
  {
   "cell_type": "code",
   "execution_count": 72,
   "id": "b4990e51",
   "metadata": {},
   "outputs": [
    {
     "data": {
      "text/plain": [
       "<AxesSubplot:>"
      ]
     },
     "execution_count": 72,
     "metadata": {},
     "output_type": "execute_result"
    },
    {
     "data": {
      "image/png": "[encoded data removed]",
      "text/plain": [
       "<Figure size 1080x720 with 1 Axes>"
      ]
     },
     "metadata": {
      "needs_background": "light"
     },
     "output_type": "display_data"
    }
   ],
   "source": [
    "plt.rcParams[\"figure.figsize\"] = (15,10)\n",
    "DataSet01['source'].value_counts().nlargest(10).plot(kind='bar')"
   ]
  },
  {
   "cell_type": "code",
   "execution_count": 73,
   "id": "6c8c57f1",
   "metadata": {},
   "outputs": [
    {
     "data": {
      "text/html": [
       "<div>\n",
       "<style scoped>\n",
       "    .dataframe tbody tr th:only-of-type {\n",
       "        vertical-align: middle;\n",
       "    }\n",
       "\n",
       "    .dataframe tbody tr th {\n",
       "        vertical-align: top;\n",
       "    }\n",
       "\n",
       "    .dataframe thead th {\n",
       "        text-align: right;\n",
       "    }\n",
       "</style>\n",
       "<table border=\"1\" class=\"dataframe\">\n",
       "  <thead>\n",
       "    <tr style=\"text-align: right;\">\n",
       "      <th></th>\n",
       "      <th>user_name</th>\n",
       "      <th>user_location</th>\n",
       "      <th>user_description</th>\n",
       "      <th>user_created</th>\n",
       "      <th>user_followers</th>\n",
       "      <th>user_friends</th>\n",
       "      <th>user_favourites</th>\n",
       "      <th>user_verified</th>\n",
       "      <th>date</th>\n",
       "      <th>text</th>\n",
       "      <th>hashtags</th>\n",
       "      <th>source</th>\n",
       "      <th>is_retweet</th>\n",
       "    </tr>\n",
       "  </thead>\n",
       "  <tbody>\n",
       "    <tr>\n",
       "      <th>98</th>\n",
       "      <td>The GAA</td>\n",
       "      <td>Ireland</td>\n",
       "      <td>Gaelic Athletic Association/Cumann LÃºthchleas...</td>\n",
       "      <td>13/11/2009 13:40</td>\n",
       "      <td>398260</td>\n",
       "      <td>150</td>\n",
       "      <td>2864</td>\n",
       "      <td>True</td>\n",
       "      <td>2020-07-25 12:24:00</td>\n",
       "      <td>You can all #PlayYourPart in the fight against...</td>\n",
       "      <td>['PlayYourPart', 'Covid19', 'InThisTogether']</td>\n",
       "      <td>Twitter for iPhone</td>\n",
       "      <td>False</td>\n",
       "    </tr>\n",
       "    <tr>\n",
       "      <th>939</th>\n",
       "      <td>GPA</td>\n",
       "      <td>Ireland</td>\n",
       "      <td>The Gaelic Players Association is dedicated to...</td>\n",
       "      <td>2009-03-03 20:14:00</td>\n",
       "      <td>37137</td>\n",
       "      <td>2465</td>\n",
       "      <td>1769</td>\n",
       "      <td>False</td>\n",
       "      <td>2020-07-25 12:00:00</td>\n",
       "      <td>You can all #PlayYourPart in the fight against...</td>\n",
       "      <td>['PlayYourPart', 'Covid19', 'InThisTogether']</td>\n",
       "      <td>Twitter Media Studio</td>\n",
       "      <td>False</td>\n",
       "    </tr>\n",
       "    <tr>\n",
       "      <th>1090</th>\n",
       "      <td>IrishMa</td>\n",
       "      <td>Ireland</td>\n",
       "      <td>#Ireland #Comedy #FenianBranch #Parody Trying ...</td>\n",
       "      <td>17/03/2020 14:29</td>\n",
       "      <td>2419</td>\n",
       "      <td>2062</td>\n",
       "      <td>45940</td>\n",
       "      <td>False</td>\n",
       "      <td>2020-07-25 11:55:00</td>\n",
       "      <td>New overalls ðŸ¤£ðŸ¤£ðŸ¤£ðŸ¤£ðŸ¤£ #COVID19 #Sa...</td>\n",
       "      <td>['COVID19', 'SaturdayMotivation']</td>\n",
       "      <td>Twitter for iPhone</td>\n",
       "      <td>False</td>\n",
       "    </tr>\n",
       "    <tr>\n",
       "      <th>1287</th>\n",
       "      <td>Billy Linehan #CrushtheCurve</td>\n",
       "      <td>Ireland</td>\n",
       "      <td>Small business adviser | mentor | @Celtar_Advi...</td>\n",
       "      <td>15/06/2009 13:12</td>\n",
       "      <td>2278</td>\n",
       "      <td>3245</td>\n",
       "      <td>29515</td>\n",
       "      <td>False</td>\n",
       "      <td>2020-07-25 11:48:00</td>\n",
       "      <td>On RTE radio 1, the #marian show with @RadioBr...</td>\n",
       "      <td>['marian']</td>\n",
       "      <td>Twitter for Android</td>\n",
       "      <td>False</td>\n",
       "    </tr>\n",
       "    <tr>\n",
       "      <th>1430</th>\n",
       "      <td>The Alzheimer Society of Ireland</td>\n",
       "      <td>Ireland</td>\n",
       "      <td>We are the leading support service &amp; advocacy ...</td>\n",
       "      <td>2009-08-12 21:53:00</td>\n",
       "      <td>10871</td>\n",
       "      <td>3382</td>\n",
       "      <td>8432</td>\n",
       "      <td>True</td>\n",
       "      <td>2020-07-25 11:42:00</td>\n",
       "      <td>The lack of support for and recognition of fam...</td>\n",
       "      <td>NaN</td>\n",
       "      <td>Twitter for iPhone</td>\n",
       "      <td>False</td>\n",
       "    </tr>\n",
       "    <tr>\n",
       "      <th>...</th>\n",
       "      <td>...</td>\n",
       "      <td>...</td>\n",
       "      <td>...</td>\n",
       "      <td>...</td>\n",
       "      <td>...</td>\n",
       "      <td>...</td>\n",
       "      <td>...</td>\n",
       "      <td>...</td>\n",
       "      <td>...</td>\n",
       "      <td>...</td>\n",
       "      <td>...</td>\n",
       "      <td>...</td>\n",
       "      <td>...</td>\n",
       "    </tr>\n",
       "    <tr>\n",
       "      <th>175812</th>\n",
       "      <td>Truth &amp; Justice</td>\n",
       "      <td>Ireland</td>\n",
       "      <td>Speaking out about the Malpractice in Hospital...</td>\n",
       "      <td>2015-03-08 15:24:00</td>\n",
       "      <td>1603</td>\n",
       "      <td>2079</td>\n",
       "      <td>34439</td>\n",
       "      <td>False</td>\n",
       "      <td>2020-08-29 23:00:00</td>\n",
       "      <td>Who is #FionaGate at South Dublin Co Council c...</td>\n",
       "      <td>['FionaGate', 'COVID19']</td>\n",
       "      <td>Twitter Web App</td>\n",
       "      <td>False</td>\n",
       "    </tr>\n",
       "    <tr>\n",
       "      <th>176260</th>\n",
       "      <td>Tracey Walker</td>\n",
       "      <td>Ireland</td>\n",
       "      <td>Love to travel, cook, cocktail night and sport...</td>\n",
       "      <td>31/03/2011 15:29</td>\n",
       "      <td>648</td>\n",
       "      <td>2236</td>\n",
       "      <td>15132</td>\n",
       "      <td>False</td>\n",
       "      <td>2020-08-29 22:29:00</td>\n",
       "      <td>Neighbours in apartment across the road have a...</td>\n",
       "      <td>NaN</td>\n",
       "      <td>Twitter for Android</td>\n",
       "      <td>False</td>\n",
       "    </tr>\n",
       "    <tr>\n",
       "      <th>177717</th>\n",
       "      <td>Darragh Bohan</td>\n",
       "      <td>Ireland</td>\n",
       "      <td>23, Sligo. Work in Public Service. Study Law i...</td>\n",
       "      <td>2011-08-08 20:54:00</td>\n",
       "      <td>587</td>\n",
       "      <td>5000</td>\n",
       "      <td>6962</td>\n",
       "      <td>False</td>\n",
       "      <td>2020-08-29 21:03:00</td>\n",
       "      <td>This is not good... Almost every county on dai...</td>\n",
       "      <td>['COVID19']</td>\n",
       "      <td>Twitter for Android</td>\n",
       "      <td>False</td>\n",
       "    </tr>\n",
       "    <tr>\n",
       "      <th>177974</th>\n",
       "      <td>Tim White</td>\n",
       "      <td>Ireland</td>\n",
       "      <td>Techie, Gadget lover, Software developer, musi...</td>\n",
       "      <td>2010-01-09 12:00:00</td>\n",
       "      <td>267</td>\n",
       "      <td>241</td>\n",
       "      <td>10270</td>\n",
       "      <td>False</td>\n",
       "      <td>2020-08-29 20:50:00</td>\n",
       "      <td>For all those saying that because hospitalisat...</td>\n",
       "      <td>['COVID19']</td>\n",
       "      <td>Twitter for Android</td>\n",
       "      <td>False</td>\n",
       "    </tr>\n",
       "    <tr>\n",
       "      <th>178988</th>\n",
       "      <td>Shane</td>\n",
       "      <td>Ireland</td>\n",
       "      <td>NaN</td>\n",
       "      <td>29/09/2010 00:07</td>\n",
       "      <td>4296</td>\n",
       "      <td>2922</td>\n",
       "      <td>27184</td>\n",
       "      <td>False</td>\n",
       "      <td>2020-08-29 19:50:00</td>\n",
       "      <td>7 consecutive days without a death from #Covid...</td>\n",
       "      <td>['Covid19']</td>\n",
       "      <td>Twitter for Android</td>\n",
       "      <td>False</td>\n",
       "    </tr>\n",
       "  </tbody>\n",
       "</table>\n",
       "<p>473 rows × 13 columns</p>\n",
       "</div>"
      ],
      "text/plain": [
       "                               user_name user_location  \\\n",
       "98                               The GAA       Ireland   \n",
       "939                                  GPA       Ireland   \n",
       "1090                             IrishMa       Ireland   \n",
       "1287        Billy Linehan #CrushtheCurve       Ireland   \n",
       "1430    The Alzheimer Society of Ireland       Ireland   \n",
       "...                                  ...           ...   \n",
       "175812                   Truth & Justice       Ireland   \n",
       "176260                     Tracey Walker       Ireland   \n",
       "177717                     Darragh Bohan       Ireland   \n",
       "177974                         Tim White       Ireland   \n",
       "178988                             Shane       Ireland   \n",
       "\n",
       "                                         user_description  \\\n",
       "98      Gaelic Athletic Association/Cumann LÃºthchleas...   \n",
       "939     The Gaelic Players Association is dedicated to...   \n",
       "1090    #Ireland #Comedy #FenianBranch #Parody Trying ...   \n",
       "1287    Small business adviser | mentor | @Celtar_Advi...   \n",
       "1430    We are the leading support service & advocacy ...   \n",
       "...                                                   ...   \n",
       "175812  Speaking out about the Malpractice in Hospital...   \n",
       "176260  Love to travel, cook, cocktail night and sport...   \n",
       "177717  23, Sligo. Work in Public Service. Study Law i...   \n",
       "177974  Techie, Gadget lover, Software developer, musi...   \n",
       "178988                                                NaN   \n",
       "\n",
       "               user_created  user_followers  user_friends  user_favourites  \\\n",
       "98         13/11/2009 13:40          398260           150             2864   \n",
       "939     2009-03-03 20:14:00           37137          2465             1769   \n",
       "1090       17/03/2020 14:29            2419          2062            45940   \n",
       "1287       15/06/2009 13:12            2278          3245            29515   \n",
       "1430    2009-08-12 21:53:00           10871          3382             8432   \n",
       "...                     ...             ...           ...              ...   \n",
       "175812  2015-03-08 15:24:00            1603          2079            34439   \n",
       "176260     31/03/2011 15:29             648          2236            15132   \n",
       "177717  2011-08-08 20:54:00             587          5000             6962   \n",
       "177974  2010-01-09 12:00:00             267           241            10270   \n",
       "178988     29/09/2010 00:07            4296          2922            27184   \n",
       "\n",
       "        user_verified                date  \\\n",
       "98               True 2020-07-25 12:24:00   \n",
       "939             False 2020-07-25 12:00:00   \n",
       "1090            False 2020-07-25 11:55:00   \n",
       "1287            False 2020-07-25 11:48:00   \n",
       "1430             True 2020-07-25 11:42:00   \n",
       "...               ...                 ...   \n",
       "175812          False 2020-08-29 23:00:00   \n",
       "176260          False 2020-08-29 22:29:00   \n",
       "177717          False 2020-08-29 21:03:00   \n",
       "177974          False 2020-08-29 20:50:00   \n",
       "178988          False 2020-08-29 19:50:00   \n",
       "\n",
       "                                                     text  \\\n",
       "98      You can all #PlayYourPart in the fight against...   \n",
       "939     You can all #PlayYourPart in the fight against...   \n",
       "1090    New overalls ðŸ¤£ðŸ¤£ðŸ¤£ðŸ¤£ðŸ¤£ #COVID19 #Sa...   \n",
       "1287    On RTE radio 1, the #marian show with @RadioBr...   \n",
       "1430    The lack of support for and recognition of fam...   \n",
       "...                                                   ...   \n",
       "175812  Who is #FionaGate at South Dublin Co Council c...   \n",
       "176260  Neighbours in apartment across the road have a...   \n",
       "177717  This is not good... Almost every county on dai...   \n",
       "177974  For all those saying that because hospitalisat...   \n",
       "178988  7 consecutive days without a death from #Covid...   \n",
       "\n",
       "                                             hashtags                source  \\\n",
       "98      ['PlayYourPart', 'Covid19', 'InThisTogether']    Twitter for iPhone   \n",
       "939     ['PlayYourPart', 'Covid19', 'InThisTogether']  Twitter Media Studio   \n",
       "1090                ['COVID19', 'SaturdayMotivation']    Twitter for iPhone   \n",
       "1287                                       ['marian']   Twitter for Android   \n",
       "1430                                              NaN    Twitter for iPhone   \n",
       "...                                               ...                   ...   \n",
       "175812                       ['FionaGate', 'COVID19']       Twitter Web App   \n",
       "176260                                            NaN   Twitter for Android   \n",
       "177717                                    ['COVID19']   Twitter for Android   \n",
       "177974                                    ['COVID19']   Twitter for Android   \n",
       "178988                                    ['Covid19']   Twitter for Android   \n",
       "\n",
       "        is_retweet  \n",
       "98           False  \n",
       "939          False  \n",
       "1090         False  \n",
       "1287         False  \n",
       "1430         False  \n",
       "...            ...  \n",
       "175812       False  \n",
       "176260       False  \n",
       "177717       False  \n",
       "177974       False  \n",
       "178988       False  \n",
       "\n",
       "[473 rows x 13 columns]"
      ]
     },
     "execution_count": 73,
     "metadata": {},
     "output_type": "execute_result"
    }
   ],
   "source": [
    "DataSet01[(DataSet01['user_location'] == 'Ireland') | (DataSet01['user_location'] == 'ireland')]"
   ]
  },
  {
   "cell_type": "code",
   "execution_count": null,
   "id": "56b1ad00",
   "metadata": {},
   "outputs": [],
   "source": []
  },
  {
   "cell_type": "code",
   "execution_count": null,
   "id": "2e371d44",
   "metadata": {},
   "outputs": [],
   "source": []
  }
 ],
 "metadata": {
  "kernelspec": {
   "display_name": "Python 3 (ipykernel)",
   "language": "python",
   "name": "python3"
  },
  "language_info": {
   "codemirror_mode": {
    "name": "ipython",
    "version": 3
   },
   "file_extension": ".py",
   "mimetype": "text/x-python",
   "name": "python",
   "nbconvert_exporter": "python",
   "pygments_lexer": "ipython3",
   "version": "3.8.8"
  }
 },
 "nbformat": 4,
 "nbformat_minor": 5
}
